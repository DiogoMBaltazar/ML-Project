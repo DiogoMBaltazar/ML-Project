{
 "cells": [
  {
   "cell_type": "markdown",
   "metadata": {},
   "source": [
    "# Midterm project submission\n",
    "Due April 4th (Sunday) 23:59pm.\n",
    "\n",
    "You should address all the questions relevant to your project.\n",
    "You will not be graded based on the values of the model performance, but on whether or not you have applied the right methodology: formulated the business model, translated it into a right machine learning approach, analyzed your data, prepared it for modelling, applied at least one machine learning approach, used cross validation for model tuning, evaluated your model using the relevant metrics.\n",
    "\n",
    "If you have tried different approaches, please include them all, and not just the best one.\n",
    "If doing some feature engineering or feature selection has improved your model, also please include all of the steps, not just the most sucessfull ones."
   ]
  },
  {
   "cell_type": "markdown",
   "metadata": {},
   "source": [
    "Here, fill out the student IDs:"
   ]
  },
  {
   "cell_type": "markdown",
   "metadata": {},
   "source": [
    "## What business problem are you solving?\n",
    "Please state clearly what business problem are you solving (one sentence). You may add a few sentences to explain why is this a relevant problem.\n"
   ]
  },
  {
   "source": [
    "For our project we are going to try to predict if an individual will be accepted for a loan or not.\n",
    "\n",
    "This is an extremely relevant problem specially for banks, as they have certain risk metrics that need to comply with on a daily nasis"
   ],
   "cell_type": "markdown",
   "metadata": {}
  },
  {
   "cell_type": "code",
   "execution_count": null,
   "metadata": {},
   "outputs": [],
   "source": []
  },
  {
   "cell_type": "code",
   "execution_count": null,
   "metadata": {},
   "outputs": [],
   "source": []
  },
  {
   "cell_type": "markdown",
   "metadata": {},
   "source": [
    "## What is the machine learning problem that you are solving?\n",
    "Is it a classification problem or a regression problem? \n",
    "Is the goal to build a model that generates a ranked list, or is it to detect anomalies as new data come in? \n",
    "Are you doing clustering to find hidden patterns?\n",
    "If applicable, what is your target?"
   ]
  },
  {
   "cell_type": "code",
   "execution_count": null,
   "metadata": {},
   "outputs": [],
   "source": []
  },
  {
   "cell_type": "markdown",
   "metadata": {},
   "source": [
    "## Data exploration and preparation \n",
    "\n",
    "- How many data instances do you have?\n",
    "- Do you have duplicates?\n",
    "- How many features? What type are they?\n",
    "- If they are categorical, what categories they have, what is their frequency?\n",
    "- If they are numerical, what is their distribution?\n",
    "- What is the distribution of the target variable?\n",
    "- If you have a target, you can also check the relationship between the target and the variables.\n",
    "- Do you have missing data? If yes, how are you going to handle it?\n",
    "- Can you use the features in their original form, or do you need to alter them in some way?\n",
    "\n",
    "If you have a lot of features, for midterm submission, you can choose to use only a subset."
   ]
  },
  {
   "cell_type": "code",
   "execution_count": null,
   "metadata": {},
   "outputs": [],
   "source": []
  },
  {
   "cell_type": "markdown",
   "metadata": {},
   "source": [
    "## Feature engineering\n",
    "Creating good features is probably the most important step in the machine learning process. \n",
    "This might involve doing:\n",
    "- transformations\n",
    "- aggregating over data points or over time and space, or finding differences (for example: differences between two monthly bills, time difference between two contacts with the client) \n",
    "- creating dummy (binary) variables\n",
    "- discretization. \n",
    "\n",
    "Business insight is very relevant in this process.\n",
    "\n",
    "For projects where some features are anonymized, not a lot can be done here, except preparing the format of the variables to be suitable for the selected model.\n"
   ]
  },
  {
   "cell_type": "markdown",
   "metadata": {},
   "source": [
    "## Modeling\n",
    "You should implemente AT LEAST ONE approach we covered so far, and tune of at least one hyperparameter.\n",
    "Do not forget that you should split your data into train and test set.\n",
    "You should do model selection and tuning using cross validation on the train set.\n",
    "Explain and justify what is the metric you are using for model selection and tuning."
   ]
  },
  {
   "cell_type": "markdown",
   "metadata": {},
   "source": [
    "## Model evaluation\n",
    "\n",
    "After selecting and tuning your model on the train set, you should evaluate its performance on the test set. \n",
    "You might have tuned your model using a certain metric, but now you should describe the model performance using all relevant metrics. \n",
    "If you have some business insight, why a certain metric is relevant, you should explain it. \n",
    "For example in disease detection, you might not want to have a false positive rate higher than some threshold (say 5%).\n",
    "\n",
    "If you preformed clustering, you should describe and visualize your clusters."
   ]
  },
  {
   "cell_type": "markdown",
   "metadata": {},
   "source": [
    "## Next steps\n",
    "\n",
    "If you already have an idea what are the next steps for your project, please describe them.\n",
    "This part is not graded, but can help us give you feedback."
   ]
  },
  {
   "cell_type": "code",
   "execution_count": null,
   "metadata": {},
   "outputs": [],
   "source": []
  },
  {
   "cell_type": "code",
   "execution_count": null,
   "metadata": {},
   "outputs": [],
   "source": []
  },
  {
   "cell_type": "code",
   "execution_count": null,
   "metadata": {},
   "outputs": [],
   "source": []
  },
  {
   "cell_type": "code",
   "execution_count": null,
   "metadata": {},
   "outputs": [],
   "source": []
  },
  {
   "cell_type": "code",
   "execution_count": null,
   "metadata": {},
   "outputs": [],
   "source": []
  },
  {
   "cell_type": "code",
   "execution_count": null,
   "metadata": {},
   "outputs": [],
   "source": []
  },
  {
   "cell_type": "code",
   "execution_count": null,
   "metadata": {},
   "outputs": [],
   "source": []
  },
  {
   "cell_type": "code",
   "execution_count": null,
   "metadata": {},
   "outputs": [],
   "source": []
  }
 ],
 "metadata": {
  "kernelspec": {
   "display_name": "Python [conda env:mlcourse]",
   "language": "python",
   "name": "conda-env-mlcourse-py"
  },
  "language_info": {
   "codemirror_mode": {
    "name": "ipython",
    "version": 3
   },
   "file_extension": ".py",
   "mimetype": "text/x-python",
   "name": "python",
   "nbconvert_exporter": "python",
   "pygments_lexer": "ipython3",
   "version": "3.8.5"
  }
 },
 "nbformat": 4,
 "nbformat_minor": 4
}